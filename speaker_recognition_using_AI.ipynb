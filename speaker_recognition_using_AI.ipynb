{
  "nbformat": 4,
  "nbformat_minor": 0,
  "metadata": {
    "colab": {
      "provenance": [],
      "gpuType": "T4"
    },
    "kernelspec": {
      "name": "python3",
      "display_name": "Python 3"
    },
    "language_info": {
      "name": "python"
    },
    "accelerator": "GPU"
  },
  "cells": [
    {
      "cell_type": "markdown",
      "source": [
        "**Import Libraries**"
      ],
      "metadata": {
        "id": "-6n0dIas5J40"
      }
    },
    {
      "cell_type": "code",
      "execution_count": 17,
      "metadata": {
        "id": "r8AD_tGE4G4V"
      },
      "outputs": [],
      "source": [
        "import numpy as np\n",
        "import librosa\n",
        "from sklearn.preprocessing import LabelEncoder\n",
        "from sklearn.svm import SVC"
      ]
    },
    {
      "cell_type": "markdown",
      "source": [
        "**MFCC Feature Extraction**"
      ],
      "metadata": {
        "id": "rZCUY_n45mHC"
      }
    },
    {
      "cell_type": "code",
      "source": [
        "# Function to extract MFCC features from audio files\n",
        "def extract_features(file_path, max_pad_len=174):\n",
        "    audio, sample_rate = librosa.load(file_path, sr=None)\n",
        "    mfccs = librosa.feature.mfcc(y=audio, sr=sample_rate, n_mfcc=40)\n",
        "\n",
        "    # Trim or pad the sequence to ensure they all have the same length\n",
        "    if mfccs.shape[1] > max_pad_len:\n",
        "        mfccs = mfccs[:, :max_pad_len]\n",
        "    else:\n",
        "        pad_width = max_pad_len - mfccs.shape[1]\n",
        "        mfccs = np.pad(mfccs, pad_width=((0, 0), (0, pad_width)), mode='constant')\n",
        "\n",
        "    return mfccs"
      ],
      "metadata": {
        "id": "PiIjaJfL4PZG"
      },
      "execution_count": 2,
      "outputs": []
    },
    {
      "cell_type": "markdown",
      "source": [
        "**Data Loading and Preprocessing**"
      ],
      "metadata": {
        "id": "AUl607a-5qAr"
      }
    },
    {
      "cell_type": "code",
      "source": [
        "# Load data and preprocess\n",
        "def load_data(file_paths, max_pad_len=174):\n",
        "    data = []\n",
        "    labels = []\n",
        "\n",
        "    for file_path, label in file_paths:\n",
        "        features = extract_features(file_path, max_pad_len)\n",
        "        data.append(features)\n",
        "        labels.append(label)\n",
        "\n",
        "    return np.array(data), np.array(labels)"
      ],
      "metadata": {
        "id": "i1QYSu1C4Uzl"
      },
      "execution_count": 3,
      "outputs": []
    },
    {
      "cell_type": "markdown",
      "source": [
        "**Training Data Setup**"
      ],
      "metadata": {
        "id": "JcwSkg_o5w0z"
      }
    },
    {
      "cell_type": "code",
      "source": [
        "# Define audio files and their corresponding labels for training\n",
        "train_audio_files = [(\"/content/audio (2).wav\", \"speaker1\"), (\"/content/audio 4.wav\", \"speaker2\")]"
      ],
      "metadata": {
        "id": "6bOOPxf94Xms"
      },
      "execution_count": 4,
      "outputs": []
    },
    {
      "cell_type": "markdown",
      "source": [
        "**Load and preprocess training data**"
      ],
      "metadata": {
        "id": "AetDanv-6BUy"
      }
    },
    {
      "cell_type": "code",
      "source": [
        "# Load and preprocess training data\n",
        "X_train, y_train = load_data(train_audio_files)\n"
      ],
      "metadata": {
        "id": "CUKuVASP4bIk"
      },
      "execution_count": 5,
      "outputs": []
    },
    {
      "cell_type": "markdown",
      "source": [
        "**Encode labels**"
      ],
      "metadata": {
        "id": "aEPpLKO654Jb"
      }
    },
    {
      "cell_type": "code",
      "source": [
        "# Encode labels\n",
        "label_encoder = LabelEncoder()\n",
        "y_train_encoded = label_encoder.fit_transform(y_train)"
      ],
      "metadata": {
        "id": "2WYZJ2Q14d3c"
      },
      "execution_count": 6,
      "outputs": []
    },
    {
      "cell_type": "markdown",
      "source": [
        "**SVM Model Training**"
      ],
      "metadata": {
        "id": "IdKDPGpA51WT"
      }
    },
    {
      "cell_type": "code",
      "source": [
        "# Train SVM model\n",
        "svm_model = SVC(kernel='linear',probability=True)  # Set probability=True to enable predict_proba()\n",
        "svm_model.fit(X_train.reshape(X_train.shape[0], -1), y_train_encoded)"
      ],
      "metadata": {
        "colab": {
          "base_uri": "https://localhost:8080/",
          "height": 75
        },
        "id": "iqf7b2Rw4gNs",
        "outputId": "5a6d977b-e1eb-4273-f531-160d92e4d312"
      },
      "execution_count": 7,
      "outputs": [
        {
          "output_type": "execute_result",
          "data": {
            "text/plain": [
              "SVC(kernel='linear', probability=True)"
            ],
            "text/html": [
              "<style>#sk-container-id-1 {color: black;background-color: white;}#sk-container-id-1 pre{padding: 0;}#sk-container-id-1 div.sk-toggleable {background-color: white;}#sk-container-id-1 label.sk-toggleable__label {cursor: pointer;display: block;width: 100%;margin-bottom: 0;padding: 0.3em;box-sizing: border-box;text-align: center;}#sk-container-id-1 label.sk-toggleable__label-arrow:before {content: \"▸\";float: left;margin-right: 0.25em;color: #696969;}#sk-container-id-1 label.sk-toggleable__label-arrow:hover:before {color: black;}#sk-container-id-1 div.sk-estimator:hover label.sk-toggleable__label-arrow:before {color: black;}#sk-container-id-1 div.sk-toggleable__content {max-height: 0;max-width: 0;overflow: hidden;text-align: left;background-color: #f0f8ff;}#sk-container-id-1 div.sk-toggleable__content pre {margin: 0.2em;color: black;border-radius: 0.25em;background-color: #f0f8ff;}#sk-container-id-1 input.sk-toggleable__control:checked~div.sk-toggleable__content {max-height: 200px;max-width: 100%;overflow: auto;}#sk-container-id-1 input.sk-toggleable__control:checked~label.sk-toggleable__label-arrow:before {content: \"▾\";}#sk-container-id-1 div.sk-estimator input.sk-toggleable__control:checked~label.sk-toggleable__label {background-color: #d4ebff;}#sk-container-id-1 div.sk-label input.sk-toggleable__control:checked~label.sk-toggleable__label {background-color: #d4ebff;}#sk-container-id-1 input.sk-hidden--visually {border: 0;clip: rect(1px 1px 1px 1px);clip: rect(1px, 1px, 1px, 1px);height: 1px;margin: -1px;overflow: hidden;padding: 0;position: absolute;width: 1px;}#sk-container-id-1 div.sk-estimator {font-family: monospace;background-color: #f0f8ff;border: 1px dotted black;border-radius: 0.25em;box-sizing: border-box;margin-bottom: 0.5em;}#sk-container-id-1 div.sk-estimator:hover {background-color: #d4ebff;}#sk-container-id-1 div.sk-parallel-item::after {content: \"\";width: 100%;border-bottom: 1px solid gray;flex-grow: 1;}#sk-container-id-1 div.sk-label:hover label.sk-toggleable__label {background-color: #d4ebff;}#sk-container-id-1 div.sk-serial::before {content: \"\";position: absolute;border-left: 1px solid gray;box-sizing: border-box;top: 0;bottom: 0;left: 50%;z-index: 0;}#sk-container-id-1 div.sk-serial {display: flex;flex-direction: column;align-items: center;background-color: white;padding-right: 0.2em;padding-left: 0.2em;position: relative;}#sk-container-id-1 div.sk-item {position: relative;z-index: 1;}#sk-container-id-1 div.sk-parallel {display: flex;align-items: stretch;justify-content: center;background-color: white;position: relative;}#sk-container-id-1 div.sk-item::before, #sk-container-id-1 div.sk-parallel-item::before {content: \"\";position: absolute;border-left: 1px solid gray;box-sizing: border-box;top: 0;bottom: 0;left: 50%;z-index: -1;}#sk-container-id-1 div.sk-parallel-item {display: flex;flex-direction: column;z-index: 1;position: relative;background-color: white;}#sk-container-id-1 div.sk-parallel-item:first-child::after {align-self: flex-end;width: 50%;}#sk-container-id-1 div.sk-parallel-item:last-child::after {align-self: flex-start;width: 50%;}#sk-container-id-1 div.sk-parallel-item:only-child::after {width: 0;}#sk-container-id-1 div.sk-dashed-wrapped {border: 1px dashed gray;margin: 0 0.4em 0.5em 0.4em;box-sizing: border-box;padding-bottom: 0.4em;background-color: white;}#sk-container-id-1 div.sk-label label {font-family: monospace;font-weight: bold;display: inline-block;line-height: 1.2em;}#sk-container-id-1 div.sk-label-container {text-align: center;}#sk-container-id-1 div.sk-container {/* jupyter's `normalize.less` sets `[hidden] { display: none; }` but bootstrap.min.css set `[hidden] { display: none !important; }` so we also need the `!important` here to be able to override the default hidden behavior on the sphinx rendered scikit-learn.org. See: https://github.com/scikit-learn/scikit-learn/issues/21755 */display: inline-block !important;position: relative;}#sk-container-id-1 div.sk-text-repr-fallback {display: none;}</style><div id=\"sk-container-id-1\" class=\"sk-top-container\"><div class=\"sk-text-repr-fallback\"><pre>SVC(kernel=&#x27;linear&#x27;, probability=True)</pre><b>In a Jupyter environment, please rerun this cell to show the HTML representation or trust the notebook. <br />On GitHub, the HTML representation is unable to render, please try loading this page with nbviewer.org.</b></div><div class=\"sk-container\" hidden><div class=\"sk-item\"><div class=\"sk-estimator sk-toggleable\"><input class=\"sk-toggleable__control sk-hidden--visually\" id=\"sk-estimator-id-1\" type=\"checkbox\" checked><label for=\"sk-estimator-id-1\" class=\"sk-toggleable__label sk-toggleable__label-arrow\">SVC</label><div class=\"sk-toggleable__content\"><pre>SVC(kernel=&#x27;linear&#x27;, probability=True)</pre></div></div></div></div></div>"
            ]
          },
          "metadata": {},
          "execution_count": 7
        }
      ]
    },
    {
      "cell_type": "markdown",
      "source": [
        "**Test Data Setup**"
      ],
      "metadata": {
        "id": "TyjCSICk6GEi"
      }
    },
    {
      "cell_type": "code",
      "source": [
        "# Define audio file and its corresponding label for testing\n",
        "test_audio_file = \"/content/priya.wav\""
      ],
      "metadata": {
        "id": "j3nHijW84ikM"
      },
      "execution_count": 10,
      "outputs": []
    },
    {
      "cell_type": "markdown",
      "source": [
        "**Load and preprocess test data**"
      ],
      "metadata": {
        "id": "c8gGUqUk6JZz"
      }
    },
    {
      "cell_type": "code",
      "source": [
        "# Load and preprocess test data\n",
        "X_test, _ = load_data([(test_audio_file, _)])"
      ],
      "metadata": {
        "id": "sdGm0L-F4k6M"
      },
      "execution_count": 11,
      "outputs": []
    },
    {
      "cell_type": "markdown",
      "source": [
        "**Speaker Prediction**"
      ],
      "metadata": {
        "id": "DNtkRY3b6Nqr"
      }
    },
    {
      "cell_type": "code",
      "source": [
        "# Predict the speaker of the test audio\n",
        "predicted_proba = svm_model.predict_proba(X_test.reshape(X_test.shape[0], -1))[0]\n",
        "max_proba = np.max(predicted_proba)\n",
        "print(\"pf\",predicted_proba)\n",
        "print(\"max\",max_proba)"
      ],
      "metadata": {
        "colab": {
          "base_uri": "https://localhost:8080/"
        },
        "id": "TRHiKOZT4nYU",
        "outputId": "a2bab0a2-556d-40fe-9dfc-68603352c106"
      },
      "execution_count": 12,
      "outputs": [
        {
          "output_type": "stream",
          "name": "stdout",
          "text": [
            "pf [0.5101725 0.4898275]\n",
            "max 0.5101725047512846\n"
          ]
        }
      ]
    },
    {
      "cell_type": "markdown",
      "source": [
        "**Set confidence threshold**"
      ],
      "metadata": {
        "id": "ERcI_cp16Sel"
      }
    },
    {
      "cell_type": "code",
      "source": [
        "# Set confidence threshold\n",
        "confidence_threshold = 0.6"
      ],
      "metadata": {
        "id": "u7n-y2Qu4v0j"
      },
      "execution_count": 13,
      "outputs": []
    },
    {
      "cell_type": "markdown",
      "source": [
        "**check the speaker prediction for unknown person**"
      ],
      "metadata": {
        "id": "dk_SOdb-6X6y"
      }
    },
    {
      "cell_type": "code",
      "source": [
        "# Check if the maximum predicted probability is above the confidence threshold\n",
        "if max_proba >confidence_threshold:\n",
        "    predicted_label_index = svm_model.predict(X_test.reshape(X_test.shape[0], -1))[0]\n",
        "    predicted_label = label_encoder.inverse_transform([predicted_label_index])[0]\n",
        "else:\n",
        "    predicted_label = \"Unknown\""
      ],
      "metadata": {
        "id": "ua1h2_Sh4y4L"
      },
      "execution_count": 14,
      "outputs": []
    },
    {
      "cell_type": "code",
      "source": [
        "print(\"Predicted Speaker:\", predicted_label)"
      ],
      "metadata": {
        "colab": {
          "base_uri": "https://localhost:8080/"
        },
        "id": "YH54FIIu408D",
        "outputId": "7b9aaebb-de0f-48fd-e625-bc595beafe7b"
      },
      "execution_count": 15,
      "outputs": [
        {
          "output_type": "stream",
          "name": "stdout",
          "text": [
            "Predicted Speaker: Unknown\n"
          ]
        }
      ]
    },
    {
      "cell_type": "markdown",
      "source": [
        "**check the speaker prediction for trained speaker**"
      ],
      "metadata": {
        "id": "rokZDwNV6frj"
      }
    },
    {
      "cell_type": "code",
      "source": [
        "# Define audio file and its corresponding label for testing\n",
        "test_audio_file = \"/content/audio 4.wav\"\n",
        "# test_label = \"Unknown\"\n",
        "\n",
        "# Load and preprocess test data\n",
        "X_test, _ = load_data([(test_audio_file, _)])\n",
        "\n",
        "# Predict the speaker of the test audio\n",
        "predicted_proba = svm_model.predict_proba(X_test.reshape(X_test.shape[0], -1))[0]\n",
        "max_proba = np.max(predicted_proba)\n",
        "print(\"pf\",predicted_proba)\n",
        "print(\"max\",max_proba)\n",
        "# Set confidence threshold\n",
        "confidence_threshold = 0.6\n",
        "\n",
        "# Check if the maximum predicted probability is above the confidence threshold\n",
        "if max_proba >confidence_threshold:\n",
        "    predicted_label_index = svm_model.predict(X_test.reshape(X_test.shape[0], -1))[0]\n",
        "    predicted_label = label_encoder.inverse_transform([predicted_label_index])[0]\n",
        "else:\n",
        "    predicted_label = \"Unknown\"\n",
        "\n",
        "print(\"Predicted Speaker:\", predicted_label)\n"
      ],
      "metadata": {
        "colab": {
          "base_uri": "https://localhost:8080/"
        },
        "id": "XmVX1lYe425j",
        "outputId": "7d200461-fb62-4f59-f21d-a0588b84fb42"
      },
      "execution_count": 16,
      "outputs": [
        {
          "output_type": "stream",
          "name": "stdout",
          "text": [
            "pf [0.66350713 0.33649287]\n",
            "max 0.6635071318041246\n",
            "Predicted Speaker: speaker2\n"
          ]
        }
      ]
    },
    {
      "cell_type": "code",
      "source": [],
      "metadata": {
        "id": "7P_l5vTu5FsM"
      },
      "execution_count": null,
      "outputs": []
    }
  ]
}